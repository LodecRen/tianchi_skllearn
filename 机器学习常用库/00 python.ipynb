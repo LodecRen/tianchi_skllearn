{
 "cells": [
  {
   "cell_type": "markdown",
   "id": "780c3ff9-9800-471a-b64e-ca46ed255e0f",
   "metadata": {},
   "source": [
    "# A"
   ]
  },
  {
   "cell_type": "markdown",
   "id": "1544e85c-d8f7-4bc2-9359-fe491c84df0b",
   "metadata": {},
   "source": [
    "# B"
   ]
  },
  {
   "cell_type": "markdown",
   "id": "441e6cf5-9107-4016-bd3c-5779cc6a5745",
   "metadata": {},
   "source": [
    "# C"
   ]
  },
  {
   "cell_type": "markdown",
   "id": "53f60548-1de4-4502-900b-a20905675dae",
   "metadata": {},
   "source": [
    "# D"
   ]
  },
  {
   "cell_type": "markdown",
   "id": "451263f1-5742-4eba-b0e5-77e44ade8462",
   "metadata": {},
   "source": [
    "# E"
   ]
  },
  {
   "cell_type": "markdown",
   "id": "118b1268-7647-4991-81d5-c7464b82fe3a",
   "metadata": {},
   "source": [
    "# F"
   ]
  },
  {
   "cell_type": "markdown",
   "id": "5e870450-1fe2-4646-90b2-48333101bfee",
   "metadata": {},
   "source": [
    "# G"
   ]
  },
  {
   "cell_type": "markdown",
   "id": "fad2380f-440a-453a-8e6f-ea8cf91f9c1b",
   "metadata": {},
   "source": [
    "# H"
   ]
  },
  {
   "cell_type": "markdown",
   "id": "9a53c1d7-d796-4e6a-b5b6-9ee9b3c33747",
   "metadata": {},
   "source": [
    "# I"
   ]
  },
  {
   "cell_type": "markdown",
   "id": "64ad7f9e-ff64-4b71-a2dc-6b62418f11be",
   "metadata": {},
   "source": [
    "# J"
   ]
  },
  {
   "cell_type": "markdown",
   "id": "f5e854ca-083f-4acf-bf2a-e7ecfc013cab",
   "metadata": {},
   "source": [
    "# K"
   ]
  },
  {
   "cell_type": "markdown",
   "id": "6cb9f7c2-fab6-41b3-bec8-dc2996633a7a",
   "metadata": {},
   "source": [
    "# L"
   ]
  },
  {
   "cell_type": "markdown",
   "id": "e9c37403-5711-4601-bc7d-4dcea99856af",
   "metadata": {},
   "source": [
    "# M"
   ]
  },
  {
   "cell_type": "markdown",
   "id": "3bf72762-ccd8-4364-a976-cdcc7049a3d7",
   "metadata": {},
   "source": []
  },
  {
   "cell_type": "markdown",
   "id": "43258da5-c878-4544-9836-36d0ffc41c27",
   "metadata": {},
   "source": [
    "# N"
   ]
  },
  {
   "cell_type": "markdown",
   "id": "e84b26b9-45a5-4d85-b556-c2eb7d370b84",
   "metadata": {},
   "source": [
    "# O"
   ]
  },
  {
   "cell_type": "markdown",
   "id": "e8487e3d-c9dc-40b2-9501-650cf86b83a6",
   "metadata": {},
   "source": [
    "# P"
   ]
  },
  {
   "cell_type": "markdown",
   "id": "16d537b4-5b70-4352-835d-98207f6274b3",
   "metadata": {},
   "source": [
    "# Q"
   ]
  },
  {
   "cell_type": "markdown",
   "id": "b17e070a-4a83-493d-a659-85d2b72322f8",
   "metadata": {},
   "source": [
    "# R"
   ]
  },
  {
   "cell_type": "markdown",
   "id": "55924563-419d-4cd7-949e-b263d66c632a",
   "metadata": {},
   "source": [
    "# S"
   ]
  },
  {
   "cell_type": "markdown",
   "id": "6e4d0d23-6157-4d7a-811c-507bc6de4d57",
   "metadata": {},
   "source": [
    "## scipy 库\n",
    "scipy 是一个开源的 Python 科学计算库，它建立在 NumPy 的基础之上，提供了更高级的数学、科学和工程计算功能。scipy 的目标是为科学计算提供高效、便捷和易用的工具，它包含了许多子模块，每个子模块都提供了不同领域的功能。\n",
    "\n",
    "### scipy.stats\n",
    "scipy.stats 模块是 scipy 库中的一个子模块，提供了许多统计函数和分布的操作。这个模块用于进行统计分析、概率分布拟合、随机变量生成等操作。它包含了许多常见的连续和离散概率分布，如正态分布、指数分布、伽马分布等，以及一些统计测试和描述统计方法  \n",
    "常用功能:  \n",
    "* 概率分布函数（Probability Distribution Functions）：可以使用这些函数计算各种概率分布的概率密度函数（PDF）、累积分布函数（CDF）、分位数函数（Percent Point Function，PPF）和随机变量生成函数。\n",
    "* 统计测试（Statistical Tests）：包括 t 检验、卡方检验、ANOVA 分析等统计测试，用于检验两个或多个样本之间的差异性。\n",
    "* 描述统计（Descriptive Statistics）：提供了一些描述数据集的统计量，如均值、方差、偏度、峰度等。\n",
    "* 拟合分布（Distribution Fitting）：可以对给定的数据集拟合各种概率分布，从而分析数据集的分布特征\n",
    "* 随机变量生成（Random Variates Generation）：可以生成符合特定分布的随机变量，用于模拟实验和蒙特卡罗模拟等应用"
   ]
  },
  {
   "cell_type": "markdown",
   "id": "a33d99a2-9c0e-450b-b4dd-3f83f06934cc",
   "metadata": {},
   "source": [
    "# T"
   ]
  },
  {
   "cell_type": "markdown",
   "id": "362fd83c-5090-4e5d-a5ee-57124fd9d79c",
   "metadata": {},
   "source": [
    "# U"
   ]
  },
  {
   "cell_type": "markdown",
   "id": "6414c04e-d566-4d6f-ac6c-cc497b5e0bf3",
   "metadata": {},
   "source": [
    "# V"
   ]
  },
  {
   "cell_type": "markdown",
   "id": "f350fd79-23fa-438a-8934-dc3d85c17b69",
   "metadata": {},
   "source": [
    "# W"
   ]
  },
  {
   "cell_type": "markdown",
   "id": "c4154e1a-de24-4d32-88f7-fe3fb9a29276",
   "metadata": {},
   "source": [
    "## warnings\n",
    "warnings 是 Python 标准库中的一个模块，用于处理警告信息。在开发和调试过程中，有时会出现一些警告，警告可能指示了一些潜在的问题或错误。warnings 模块允许开发者控制警告的行为，包括忽略、显示、记录等。\n",
    "下面是 warnings 模块的一些常用功能和用法：\n",
    "\n",
    "* 警告类型（Warning Categories）：warnings 模块定义了不同类型的警告，例如 DeprecationWarning、SyntaxWarning、RuntimeWarning 等。每种警告类型都有其特定的含义和用途。\n",
    "\n",
    "* 控制警告行为（Controlling Warning Behavior）：可以通过 warnings 模块的函数来控制警告的行为，例如：\n",
    "\n",
    "    * warnings.filterwarnings(action, category)：设置对特定类型的警告采取的行动，如忽略、显示等。\n",
    "    * warnings.simplefilter(action, category)：设置全局的警告行为，影响后续所有警告的处理。\n",
    "    * warnings.filterwarnings(action, message, category)：根据警告消息内容过滤警告。\n",
    "    * warnings.catch_warnings()：临时改变警告行为，使得在特定代码块内部对警告进行特定处理。\n",
    "\n",
    "* 自定义警告（Custom Warnings）：开发者可以通过继承 Warning 类创建自定义的警告类型，并使用 warnings.warn() 函数发出自定义的警告信息。\n",
    "\n",
    "* 警告管理器（Warning Management）：warnings 模块还提供了 warnings.warn_explicit() 和 warnings.showwarning() 等函数，允许用户在代码中自定义警告的显示方式和行为。"
   ]
  },
  {
   "cell_type": "code",
   "execution_count": 3,
   "id": "951bc236-6c5e-48b3-af40-65543a76facb",
   "metadata": {},
   "outputs": [],
   "source": [
    "import warnings\n",
    "\n",
    "# 忽略特定类型的警告\n",
    "warnings.filterwarnings('ignore', category=DeprecationWarning)\n",
    "\n",
    "# 生成一个 DeprecationWarning 警告\n",
    "def deprecated_function():\n",
    "    pass\n",
    "\n",
    "deprecated_function()\n",
    "\n",
    "# 恢复默认警告行为\n",
    "warnings.resetwarnings()\n",
    "\n",
    "# 显示所有警告\n",
    "warnings.filterwarnings('default')\n",
    "\n",
    "# 再次生成 DeprecationWarning 警告\n",
    "deprecated_function()"
   ]
  },
  {
   "cell_type": "markdown",
   "id": "ea17d99f-da87-47ca-a4db-0309ea1755ae",
   "metadata": {},
   "source": [
    "# X"
   ]
  },
  {
   "cell_type": "markdown",
   "id": "1d476afa-390a-4b2e-80ed-b11b657d13ac",
   "metadata": {},
   "source": [
    "# Y"
   ]
  },
  {
   "cell_type": "markdown",
   "id": "c668dbb9-3fc0-43da-b874-ad10d42c32ed",
   "metadata": {},
   "source": [
    "# Z"
   ]
  }
 ],
 "metadata": {
  "kernelspec": {
   "display_name": "Python 3 (ipykernel)",
   "language": "python",
   "name": "python3"
  },
  "language_info": {
   "codemirror_mode": {
    "name": "ipython",
    "version": 3
   },
   "file_extension": ".py",
   "mimetype": "text/x-python",
   "name": "python",
   "nbconvert_exporter": "python",
   "pygments_lexer": "ipython3",
   "version": "3.11.5"
  }
 },
 "nbformat": 4,
 "nbformat_minor": 5
}
