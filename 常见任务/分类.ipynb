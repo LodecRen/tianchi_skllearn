{
 "cells": [
  {
   "cell_type": "markdown",
   "id": "be1a4ef9-33ac-4514-a15f-ea71c7caaf1e",
   "metadata": {},
   "source": [
    "# 分类任务"
   ]
  },
  {
   "cell_type": "code",
   "execution_count": null,
   "id": "d7990dda-a4ba-44af-bea6-6ad62fa28ddd",
   "metadata": {},
   "outputs": [],
   "source": []
  }
 ],
 "metadata": {
  "kernelspec": {
   "display_name": "Python 3 (ipykernel)",
   "language": "python",
   "name": "python3"
  },
  "language_info": {
   "codemirror_mode": {
    "name": "ipython",
    "version": 3
   },
   "file_extension": ".py",
   "mimetype": "text/x-python",
   "name": "python",
   "nbconvert_exporter": "python",
   "pygments_lexer": "ipython3",
   "version": "3.11.5"
  }
 },
 "nbformat": 4,
 "nbformat_minor": 5
}
