{
 "cells": [
  {
   "cell_type": "markdown",
   "id": "be1a4ef9-33ac-4514-a15f-ea71c7caaf1e",
   "metadata": {},
   "source": [
    "# 回归任务"
   ]
  },
  {
   "cell_type": "markdown",
   "id": "4e0d2972-1850-4a29-9af7-2b11db2603a5",
   "metadata": {},
   "source": [
    "常见回归的回归任务: \n",
    "* 线性回归: 通过线性模型来拟合数据，尝试找到自变量与因变量之间的线性关系\n",
    "* 多项式回归：将输入特征的多项式作为模型的基础函数，以拟合非线性关系。\n",
    "* 岭回归（Ridge Regression）：通过添加正则化项来防止模型过拟合的线性回归方法。\n",
    "* Lasso回归（Lasso Regression）：类似于岭回归，但使用的是L1正则化，可以使得部分特征的系数变为零，从而实现特征选择。\n",
    "* 弹性网络回归（Elastic Net Regression）：结合了岭回归和Lasso回归的特点，同时使用L1和L2正则化。\n",
    "* 逻辑斯蒂回归（Logistic Regression）：虽然名称中带有“回归”，但实际上是一种用于解决分类问题的线性模型。它输出的是类别的概率。\n",
    "* 决策树回归（Decision Tree Regression）：使用决策树来拟合数据，将输入空间划分为不同的区域，并在每个区域内拟合一个常数值。\n",
    "* K近邻回归（K-Nearest Neighbors Regression）：根据输入样本的特征值，找到与之最接近的K个邻居，然后通过这些邻居的目标值来预测目标样本的值。\n",
    "* 支持向量回归（Support Vector Regression，SVR）：与支持向量机类似，但用于回归任务。SVR试图找到一个函数，使得预测值与实际值之间的误差最小化。\n",
    "* 核岭回归（Kernel Ridge Regression）：在岭回归中使用核技巧，将特征映射到高维空间以处理非线性关系。"
   ]
  },
  {
   "cell_type": "markdown",
   "id": "3ee816a0-fa68-4877-b1d1-13246609269f",
   "metadata": {},
   "source": [
    "1. 线性回归: 对数据的正态性有一定的假设，需要将数据转换成正太分布\n",
    "2. 多项式回归：与线性回归相比，对数据的分布要求相对较宽松，但仍然需要考虑是否有明显的非线性关系存在。\n",
    "3. 岭回归和Lasso回归：这些方法对数据的分布没有特别的要求，但对特征的相关性和重要性有一定的假设，例如岭回归假设正态分布的误差。\n",
    "4. 逻辑回归：虽然逻辑回归通常用于分类任务，但它也可以用于连续值的预测。对于二元逻辑回归，假设数据符合伯努利分布；对于多元逻辑回归，假设数据符合多项分布。\n",
    "5. 决策树回归和随机森林回归：这些方法对数据的分布没有特别的要求，它们能够很好地处理非线性关系，但容易过拟合。\n",
    "6. 支持向量回归：支持向量回归对数据的分布没有特别的要求，但对于核函数的选择和调参可能会受到影响。\n",
    "7. 神经网络回归：神经网络通常对数据的分布没有特别的要求，但需要足够的数据量和合适的网络结构来训练模型，以避免过拟合。"
   ]
  },
  {
   "cell_type": "code",
   "execution_count": null,
   "id": "5a384efb-f067-4c31-88fe-bb57d17fd02b",
   "metadata": {},
   "outputs": [],
   "source": []
  }
 ],
 "metadata": {
  "kernelspec": {
   "display_name": "Python 3 (ipykernel)",
   "language": "python",
   "name": "python3"
  },
  "language_info": {
   "codemirror_mode": {
    "name": "ipython",
    "version": 3
   },
   "file_extension": ".py",
   "mimetype": "text/x-python",
   "name": "python",
   "nbconvert_exporter": "python",
   "pygments_lexer": "ipython3",
   "version": "3.11.5"
  }
 },
 "nbformat": 4,
 "nbformat_minor": 5
}
