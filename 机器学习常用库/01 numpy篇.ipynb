{
 "cells": [
  {
   "cell_type": "markdown",
   "id": "780c3ff9-9800-471a-b64e-ca46ed255e0f",
   "metadata": {},
   "source": [
    "# A"
   ]
  },
  {
   "cell_type": "markdown",
   "id": "1544e85c-d8f7-4bc2-9359-fe491c84df0b",
   "metadata": {},
   "source": [
    "# B"
   ]
  },
  {
   "cell_type": "markdown",
   "id": "441e6cf5-9107-4016-bd3c-5779cc6a5745",
   "metadata": {},
   "source": [
    "# C"
   ]
  },
  {
   "cell_type": "markdown",
   "id": "53f60548-1de4-4502-900b-a20905675dae",
   "metadata": {},
   "source": [
    "# D"
   ]
  },
  {
   "cell_type": "markdown",
   "id": "451263f1-5742-4eba-b0e5-77e44ade8462",
   "metadata": {},
   "source": [
    "# E"
   ]
  },
  {
   "cell_type": "markdown",
   "id": "118b1268-7647-4991-81d5-c7464b82fe3a",
   "metadata": {},
   "source": [
    "# F"
   ]
  },
  {
   "cell_type": "markdown",
   "id": "5e870450-1fe2-4646-90b2-48333101bfee",
   "metadata": {},
   "source": [
    "# G"
   ]
  },
  {
   "cell_type": "markdown",
   "id": "fad2380f-440a-453a-8e6f-ea8cf91f9c1b",
   "metadata": {},
   "source": [
    "# H"
   ]
  },
  {
   "cell_type": "markdown",
   "id": "9a53c1d7-d796-4e6a-b5b6-9ee9b3c33747",
   "metadata": {},
   "source": [
    "# I"
   ]
  },
  {
   "cell_type": "markdown",
   "id": "64ad7f9e-ff64-4b71-a2dc-6b62418f11be",
   "metadata": {},
   "source": [
    "# J"
   ]
  },
  {
   "cell_type": "markdown",
   "id": "f5e854ca-083f-4acf-bf2a-e7ecfc013cab",
   "metadata": {},
   "source": [
    "# K"
   ]
  },
  {
   "cell_type": "markdown",
   "id": "6cb9f7c2-fab6-41b3-bec8-dc2996633a7a",
   "metadata": {},
   "source": [
    "# L"
   ]
  },
  {
   "cell_type": "markdown",
   "id": "e9c37403-5711-4601-bc7d-4dcea99856af",
   "metadata": {},
   "source": [
    "# M"
   ]
  },
  {
   "cell_type": "markdown",
   "id": "43258da5-c878-4544-9836-36d0ffc41c27",
   "metadata": {},
   "source": [
    "# N"
   ]
  },
  {
   "cell_type": "markdown",
   "id": "e84b26b9-45a5-4d85-b556-c2eb7d370b84",
   "metadata": {},
   "source": [
    "# O"
   ]
  },
  {
   "cell_type": "markdown",
   "id": "e8487e3d-c9dc-40b2-9501-650cf86b83a6",
   "metadata": {},
   "source": [
    "# P"
   ]
  },
  {
   "cell_type": "markdown",
   "id": "16d537b4-5b70-4352-835d-98207f6274b3",
   "metadata": {},
   "source": [
    "# Q"
   ]
  },
  {
   "cell_type": "markdown",
   "id": "b17e070a-4a83-493d-a659-85d2b72322f8",
   "metadata": {},
   "source": [
    "# R"
   ]
  },
  {
   "cell_type": "markdown",
   "id": "55924563-419d-4cd7-949e-b263d66c632a",
   "metadata": {},
   "source": [
    "# S"
   ]
  },
  {
   "cell_type": "markdown",
   "id": "b35052b0-6998-430f-9ed2-21ab67a08340",
   "metadata": {
    "jp-MarkdownHeadingCollapsed": true
   },
   "source": [
    "## Scipy\n",
    "Scipy 是一个开源的 Python 科学计算库，提供了许多有用的数学、科学和工程计算功能。它建立在 NumPy 的基础上，并与其他科学计算库（如 Matplotlib、pandas 等）良好地集成在一起。\n",
    "\n"
   ]
  },
  {
   "cell_type": "markdown",
   "id": "f986d286-ca61-4276-9404-479b4366492a",
   "metadata": {
    "jp-MarkdownHeadingCollapsed": true
   },
   "source": [
    "### scipy.stats\n",
    "scipy.stats 模块是 Scipy 库中的一个子模块，用于执行统计学相关的计算。它提供了大量的概率分布和统计测试函数，用于执行各种常见的统计分析任务，包括描述性统计、假设检验、拟合概率分布等。  \n",
    "\n",
    "常见的使用情景包括：  \n",
    "* 概率分布函数（Probability Distribution Functions）：scipy.stats 模块包含了许多常见的概率分布函数，如正态分布、泊松分布、指数分布等。可以使用这些函数生成随机变量或计算概率密度、累积分布函数等。\n",
    "* 统计测试（Statistical Tests）：scipy.stats 中提供了多种统计测试函数，用于检验数据集是否符合某种分布、是否存在相关性、是否有显著差异等。常见的统计测试包括 t 检验、卡方检验、ANOVA 分析等。\n",
    "* 拟合概率分布（Fitting Probability Distributions）：scipy.stats 中的一些函数可以用于拟合观察到的数据到特定的概率分布，从而估计分布的参数。\n",
    "\n",
    "\n",
    "\r\n",
    "下面是一个简单的示例，演示了如何使用 scipy.stats 中的一些函数："
   ]
  },
  {
   "cell_type": "code",
   "execution_count": 1,
   "id": "50dbb680-66e4-476e-99d7-19b73e60b24a",
   "metadata": {},
   "outputs": [
    {
     "name": "stdout",
     "output_type": "stream",
     "text": [
      "均值： 0.06303647377473295\n",
      "标准差： 0.988199994484548\n",
      "在均值为 0 处的正态分布概率密度值： 0.4028854964948296\n",
      "t 统计量： 2.0161823472923115\n",
      "p 值： 0.044048177926606744\n"
     ]
    }
   ],
   "source": [
    "from scipy import stats\n",
    "import numpy as np\n",
    "\n",
    "# 生成一组服从正态分布的随机样本\n",
    "data = np.random.normal(loc=0, scale=1, size=1000)\n",
    "\n",
    "# 计算均值和标准差\n",
    "mean = np.mean(data)\n",
    "std_dev = np.std(data)\n",
    "\n",
    "# 使用正态分布的概率密度函数计算概率密度值\n",
    "pdf_value = stats.norm.pdf(0, loc=mean, scale=std_dev)\n",
    "\n",
    "# 进行 t 检验，检验样本均值是否显著不同于 0\n",
    "t_statistic, p_value = stats.ttest_1samp(data, 0)\n",
    "\n",
    "print(\"均值：\", mean)\n",
    "print(\"标准差：\", std_dev)\n",
    "print(\"在均值为 0 处的正态分布概率密度值：\", pdf_value)\n",
    "print(\"t 统计量：\", t_statistic)\n",
    "print(\"p 值：\", p_value)"
   ]
  },
  {
   "cell_type": "markdown",
   "id": "a33d99a2-9c0e-450b-b4dd-3f83f06934cc",
   "metadata": {},
   "source": [
    "# T"
   ]
  },
  {
   "cell_type": "markdown",
   "id": "362fd83c-5090-4e5d-a5ee-57124fd9d79c",
   "metadata": {},
   "source": [
    "# U"
   ]
  },
  {
   "cell_type": "markdown",
   "id": "6414c04e-d566-4d6f-ac6c-cc497b5e0bf3",
   "metadata": {},
   "source": [
    "# V"
   ]
  },
  {
   "cell_type": "markdown",
   "id": "f350fd79-23fa-438a-8934-dc3d85c17b69",
   "metadata": {},
   "source": [
    "# W"
   ]
  },
  {
   "cell_type": "markdown",
   "id": "ea17d99f-da87-47ca-a4db-0309ea1755ae",
   "metadata": {},
   "source": [
    "# X"
   ]
  },
  {
   "cell_type": "markdown",
   "id": "1d476afa-390a-4b2e-80ed-b11b657d13ac",
   "metadata": {},
   "source": [
    "# Y"
   ]
  },
  {
   "cell_type": "markdown",
   "id": "c668dbb9-3fc0-43da-b874-ad10d42c32ed",
   "metadata": {},
   "source": [
    "# Z"
   ]
  }
 ],
 "metadata": {
  "kernelspec": {
   "display_name": "Python 3 (ipykernel)",
   "language": "python",
   "name": "python3"
  },
  "language_info": {
   "codemirror_mode": {
    "name": "ipython",
    "version": 3
   },
   "file_extension": ".py",
   "mimetype": "text/x-python",
   "name": "python",
   "nbconvert_exporter": "python",
   "pygments_lexer": "ipython3",
   "version": "3.11.5"
  }
 },
 "nbformat": 4,
 "nbformat_minor": 5
}
