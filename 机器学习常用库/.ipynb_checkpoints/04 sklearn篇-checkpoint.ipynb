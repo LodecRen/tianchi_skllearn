{
 "cells": [
  {
   "cell_type": "markdown",
   "id": "780c3ff9-9800-471a-b64e-ca46ed255e0f",
   "metadata": {},
   "source": [
    "# A"
   ]
  },
  {
   "cell_type": "markdown",
   "id": "1544e85c-d8f7-4bc2-9359-fe491c84df0b",
   "metadata": {},
   "source": [
    "# B"
   ]
  },
  {
   "cell_type": "markdown",
   "id": "441e6cf5-9107-4016-bd3c-5779cc6a5745",
   "metadata": {},
   "source": [
    "# C"
   ]
  },
  {
   "cell_type": "markdown",
   "id": "53f60548-1de4-4502-900b-a20905675dae",
   "metadata": {},
   "source": [
    "# D"
   ]
  },
  {
   "cell_type": "markdown",
   "id": "451263f1-5742-4eba-b0e5-77e44ade8462",
   "metadata": {},
   "source": [
    "# E"
   ]
  },
  {
   "cell_type": "markdown",
   "id": "118b1268-7647-4991-81d5-c7464b82fe3a",
   "metadata": {},
   "source": [
    "# F"
   ]
  },
  {
   "cell_type": "markdown",
   "id": "5e870450-1fe2-4646-90b2-48333101bfee",
   "metadata": {},
   "source": [
    "# G"
   ]
  },
  {
   "cell_type": "markdown",
   "id": "fad2380f-440a-453a-8e6f-ea8cf91f9c1b",
   "metadata": {},
   "source": [
    "# H"
   ]
  },
  {
   "cell_type": "markdown",
   "id": "9a53c1d7-d796-4e6a-b5b6-9ee9b3c33747",
   "metadata": {},
   "source": [
    "# I"
   ]
  },
  {
   "cell_type": "markdown",
   "id": "64ad7f9e-ff64-4b71-a2dc-6b62418f11be",
   "metadata": {},
   "source": [
    "# J"
   ]
  },
  {
   "cell_type": "markdown",
   "id": "f5e854ca-083f-4acf-bf2a-e7ecfc013cab",
   "metadata": {},
   "source": [
    "# K"
   ]
  },
  {
   "cell_type": "markdown",
   "id": "6cb9f7c2-fab6-41b3-bec8-dc2996633a7a",
   "metadata": {},
   "source": [
    "# L"
   ]
  },
  {
   "cell_type": "markdown",
   "id": "e9c37403-5711-4601-bc7d-4dcea99856af",
   "metadata": {},
   "source": [
    "# M"
   ]
  },
  {
   "cell_type": "markdown",
   "id": "43258da5-c878-4544-9836-36d0ffc41c27",
   "metadata": {},
   "source": [
    "# N"
   ]
  },
  {
   "cell_type": "markdown",
   "id": "e84b26b9-45a5-4d85-b556-c2eb7d370b84",
   "metadata": {},
   "source": [
    "# O"
   ]
  },
  {
   "cell_type": "markdown",
   "id": "e8487e3d-c9dc-40b2-9501-650cf86b83a6",
   "metadata": {},
   "source": [
    "# P"
   ]
  },
  {
   "cell_type": "markdown",
   "id": "46df34e9-4a6e-4c10-9ee8-77597aeb96ac",
   "metadata": {},
   "source": [
    "## preprocessing \n",
    "sklearn.preprocessing 模块提供了一系列用于数据预处理和特征工程的函数和类。这些函数和类可以帮助您准备数据，使其适合机器学习算法的输入要求，并提高模型的性能。\n",
    "\n",
    "以下是一些 sklearn.preprocessing 模块中常用的方法：  \n",
    "\n",
    "**标准化（Standardization）：** 将数据按照特征的均值和标准差进行标准化，使得每个特征的均值为 0，标准差为 1。\n",
    "* StandardScaler: 通过减去均值，然后除以标准差来标准化特征。  \n",
    "\n",
    "\n",
    "**归一化（Normalization）：** 将数据按比例缩放到一个特定的范围，通常是 [0, 1] 或 [-1, 1]。\n",
    "* MinMaxScaler: 通过缩放每个特征的范围到给定的最小值和最大值之间来进行归一化。\n",
    "\n",
    "**正则化（Normalization）：** 将样本的特征向量调整为单位范数（默认为L2范数），使得每个样本的特征向量具有相同的尺度。\n",
    "* Normalizer: 通过调整每个样本的特征向量为单位范数来进行正则化。\n",
    "\n",
    "**编码类别特征（Encoding Categorical Features）：** 将类别特征转换为可用于机器学习模型的数字形式。\n",
    "* LabelEncoder: 将类别标签编码为整数值。\n",
    "* OneHotEncoder: 将类别特征编码为 one-hot 向量，适用于线性模型等。\n",
    "\n",
    "**处理缺失值（Handling Missing Values）：** 处理数据中的缺失值，可以填充缺失值或者丢弃包含缺失值的样本或特征。\n",
    "* SimpleImputer: 通过使用指定的策略（例如均值、中位数、众数等）来填充缺失值。\n",
    "\n",
    "**多项式特征生成（Polynomial Feature Generation）：** 生成原始特征的多项式组合，用于增加模型的复杂度。\n",
    "* PolynomialFeatures: 生成原始特征的多项式组合。\n",
    "\n",
    "**自定义数据转换（Custom Data Transformation）：** 使用自定义的转换函数对数据进行处理。\n",
    "* FunctionTransformer: 对输入数据应用用户提供的函数进行转换。"
   ]
  },
  {
   "cell_type": "markdown",
   "id": "16d537b4-5b70-4352-835d-98207f6274b3",
   "metadata": {},
   "source": [
    "# Q"
   ]
  },
  {
   "cell_type": "markdown",
   "id": "b17e070a-4a83-493d-a659-85d2b72322f8",
   "metadata": {},
   "source": [
    "# R"
   ]
  },
  {
   "cell_type": "markdown",
   "id": "55924563-419d-4cd7-949e-b263d66c632a",
   "metadata": {},
   "source": [
    "# S"
   ]
  },
  {
   "cell_type": "markdown",
   "id": "b35052b0-6998-430f-9ed2-21ab67a08340",
   "metadata": {},
   "source": [
    "## Seaborn\n",
    "Seaborn 是一个基于 matplotlib 的 Python 可视化库，提供了一个高级界面用于绘制各种吸引人的统计图形。它让创建信息丰富的统计图形变得更加容易，同时也能与 pandas 数据框轻松集成。  \n",
    "Seaborn 的主要特点包括:  \r",
    "* \r\n",
    "提供了简洁的高级接口，可以轻松创建复杂的图\n",
    "* 。\r\n",
    "默认情况下，Seaborn 预设了吸引人的颜色和\n",
    "* 题。\r\n",
    "能够直接处理 pandas 数据结构，方便地可视化数据框和 Series\n",
    "* 对象。\r\n",
    "支持多种常见的统计图形，如线图、条形图、散点图、盒图、热力图等。"
   ]
  },
  {
   "cell_type": "code",
   "execution_count": 1,
   "id": "50dbb680-66e4-476e-99d7-19b73e60b24a",
   "metadata": {},
   "outputs": [
    {
     "data": {
      "image/png": "[encoded data removed]",
      "text/plain": [
       "<Figure size 640x480 with 1 Axes>"
      ]
     },
     "metadata": {},
     "output_type": "display_data"
    }
   ],
   "source": [
    "import matplotlib.pyplot as plt\n",
    "import seaborn as sns\n",
    "import pandas as pd\n",
    "\n",
    "# 创建一个示例数据集\n",
    "data = pd.DataFrame({\n",
    "    'x': [1, 2, 3, 4, 5],\n",
    "    'y': [2, 3, 5, 7, 6]\n",
    "})\n",
    "\n",
    "# 使用 Seaborn 绘制散点图\n",
    "sns.scatterplot(x='x', y='y', data=data)\n",
    "\n",
    "# 显示图形\n",
    "plt.show()"
   ]
  },
  {
   "cell_type": "markdown",
   "id": "a33d99a2-9c0e-450b-b4dd-3f83f06934cc",
   "metadata": {},
   "source": [
    "# T"
   ]
  },
  {
   "cell_type": "markdown",
   "id": "362fd83c-5090-4e5d-a5ee-57124fd9d79c",
   "metadata": {},
   "source": [
    "# U"
   ]
  },
  {
   "cell_type": "markdown",
   "id": "6414c04e-d566-4d6f-ac6c-cc497b5e0bf3",
   "metadata": {},
   "source": [
    "# V"
   ]
  },
  {
   "cell_type": "markdown",
   "id": "f350fd79-23fa-438a-8934-dc3d85c17b69",
   "metadata": {},
   "source": [
    "# W"
   ]
  },
  {
   "cell_type": "markdown",
   "id": "ea17d99f-da87-47ca-a4db-0309ea1755ae",
   "metadata": {},
   "source": [
    "# X"
   ]
  },
  {
   "cell_type": "markdown",
   "id": "1d476afa-390a-4b2e-80ed-b11b657d13ac",
   "metadata": {},
   "source": [
    "# Y"
   ]
  },
  {
   "cell_type": "markdown",
   "id": "c668dbb9-3fc0-43da-b874-ad10d42c32ed",
   "metadata": {},
   "source": [
    "# Z"
   ]
  }
 ],
 "metadata": {
  "kernelspec": {
   "display_name": "Python 3 (ipykernel)",
   "language": "python",
   "name": "python3"
  },
  "language_info": {
   "codemirror_mode": {
    "name": "ipython",
    "version": 3
   },
   "file_extension": ".py",
   "mimetype": "text/x-python",
   "name": "python",
   "nbconvert_exporter": "python",
   "pygments_lexer": "ipython3",
   "version": "3.11.5"
  }
 },
 "nbformat": 4,
 "nbformat_minor": 5
}
