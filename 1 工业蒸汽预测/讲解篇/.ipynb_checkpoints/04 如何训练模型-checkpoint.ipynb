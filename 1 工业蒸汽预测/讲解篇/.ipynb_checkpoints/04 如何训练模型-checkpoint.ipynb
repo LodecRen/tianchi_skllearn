{
 "cells": [
  {
   "attachments": {},
   "cell_type": "markdown",
   "id": "b18aef07-80b0-44b6-bf1a-b5c20e582e3b",
   "metadata": {},
   "source": [
    "# 模型训练  "
   ]
  },
  {
   "cell_type": "markdown",
   "id": "91915202-fd74-4505-89aa-a723a3f36f2d",
   "metadata": {},
   "source": [
    "## 1 回归及相关模型  \n",
    "回归模型训练和预测的步骤:  \n",
    "1. 导入库函数;\n",
    "2. 导入数据集, 对数据进行预处理;\n",
    "3. 选择合适的机器学习模型, 训练模型;\n",
    "4. 预测结果;"
   ]
  },
  {
   "cell_type": "markdown",
   "id": "062cb305-2102-415f-89de-7bf1ed616d7b",
   "metadata": {},
   "source": [
    "### 线性回归\n",
    "* 一元线性回归\n",
    "* 多元线性回归\n",
    "\n",
    "### K近邻回归模型\n",
    "\n",
    "### 决策树\n",
    "\n",
    "### 集成学习\n",
    "* 随机森林\n",
    "* lightGBM"
   ]
  },
  {
   "cell_type": "code",
   "execution_count": null,
   "id": "dc545b7a-f2d1-459d-93f0-0a6961f60137",
   "metadata": {},
   "outputs": [],
   "source": []
  }
 ],
 "metadata": {
  "kernelspec": {
   "display_name": "Python 3 (ipykernel)",
   "language": "python",
   "name": "python3"
  },
  "language_info": {
   "codemirror_mode": {
    "name": "ipython",
    "version": 3
   },
   "file_extension": ".py",
   "mimetype": "text/x-python",
   "name": "python",
   "nbconvert_exporter": "python",
   "pygments_lexer": "ipython3",
   "version": "3.11.5"
  }
 },
 "nbformat": 4,
 "nbformat_minor": 5
}
