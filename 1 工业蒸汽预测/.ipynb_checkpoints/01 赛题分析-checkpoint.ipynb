{
 "cells": [
  {
   "cell_type": "markdown",
   "id": "d15e5ae2-8951-4376-90c6-a8080d6b1942",
   "metadata": {},
   "source": [
    "## 赛题背景\r\n",
    "\r\n",
    "火力发电的基本原理是：燃料在燃烧时加热水生成蒸汽，蒸汽压力推动汽轮机旋转，然后汽轮机带动发电机旋转，产生电能。在这一系列的能量转化中，影响发电效率的核心是锅炉的燃烧效率，即燃料燃烧加热水产生高温高压蒸汽。锅炉的燃烧效率的影响因素很多，包括锅炉的可调参数，如燃烧给量，一二次风，引风，返料风，给水水量；以及锅炉的工况，比如锅炉床温、床压，炉膛温度、压力，过热器的温度等quare error作为评判标准。"
   ]
  },
  {
   "cell_type": "markdown",
   "id": "ce580161-6a22-4565-ae78-8ac9ca78b2d8",
   "metadata": {},
   "source": [
    "\n",
    "## 赛题描述\n",
    "\n",
    "经脱敏后的锅炉传感器采集的数据（采集频率是分钟级别），根据锅炉的工况，预测产生的蒸汽量。\n",
    "\n",
    "准。"
   ]
  },
  {
   "cell_type": "markdown",
   "id": "40845eb7-d925-4237-8b97-1d967fca7995",
   "metadata": {},
   "source": [
    "\n",
    "## 数据说明\n",
    "\n",
    "数据分成训练数据（train.txt）和测试数据（test.txt），其中字段”V0”-“V37”，这38个字段是作为特征变量，”target”作为目标变量。选手利用训练数据训练出模型，预测测试数据的目标变量，排名结果依据预测结果的MSE（mean square error）。\n",
    "\n"
   ]
  },
  {
   "cell_type": "markdown",
   "id": "e42adf6e-4dde-4754-ba6c-1aa748ec178f",
   "metadata": {},
   "source": [
    "## 结果提交\n",
    "\n",
    "选手需要提交测试数据的预测结果（txt格式，只有1列预测结果）。\n"
   ]
  },
  {
   "cell_type": "markdown",
   "id": "ab528b18-92d1-492b-b727-f2f7aab42aef",
   "metadata": {},
   "source": [
    "## 结果评估\n",
    "\n",
    "预测结果以mean square error作为评判标准。  \n",
    "\n",
    "$MSE=\\frac{SSE}{n}=\\frac{1}{n}\\sum^n_{i=1}\\omega_i(y_i-\\hat{y}_i)^2$\n"
   ]
  },
  {
   "cell_type": "markdown",
   "id": "38fac06b-cac8-4502-9487-0d011bf74234",
   "metadata": {},
   "source": [
    "## 赛题模型\n",
    "赛题分析中,很重要的一点就是根据题目的特点和目标明确问题的类型,选择合适的模型.   \n",
    "常用模型:  \n",
    "* 回归\n",
    "* 分类"
   ]
  },
  {
   "cell_type": "markdown",
   "id": "5148a48e-f26a-4682-a59a-dcd248f701e3",
   "metadata": {},
   "source": [
    "### 解题思路\n",
    "本题需要根据提供的 V0~V37 共38个特征, 来预测蒸汽量的数值. 预测的值为连续型变量, 所以此赛题为回归预测求解. \n",
    "回归预测: \n",
    "* 线性回归 Liner Regression\n",
    "* 岭回归 Ridge Regression\n",
    "* LASSO 回归\n",
    "* 决策树回归\n",
    "* 提升树回归"
   ]
  },
  {
   "cell_type": "code",
   "execution_count": null,
   "id": "c2072417-f14f-46e6-a4bd-9047de9c8809",
   "metadata": {},
   "outputs": [],
   "source": []
  }
 ],
 "metadata": {
  "kernelspec": {
   "display_name": "Python 3 (ipykernel)",
   "language": "python",
   "name": "python3"
  },
  "language_info": {
   "codemirror_mode": {
    "name": "ipython",
    "version": 3
   },
   "file_extension": ".py",
   "mimetype": "text/x-python",
   "name": "python",
   "nbconvert_exporter": "python",
   "pygments_lexer": "ipython3",
   "version": "3.11.5"
  }
 },
 "nbformat": 4,
 "nbformat_minor": 5
}
